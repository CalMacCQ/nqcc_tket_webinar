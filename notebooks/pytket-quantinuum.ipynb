{
 "cells": [
  {
   "cell_type": "markdown",
   "id": "28ec6093-354f-44b5-a256-7a39f369c15c",
   "metadata": {},
   "source": [
    "# Using the Quantinuum Emulator through the pytket-quantinuum extension"
   ]
  },
  {
   "cell_type": "markdown",
   "id": "7cb8eb79-4c93-4fce-bd5e-944e3d54f089",
   "metadata": {},
   "source": [
    "## logging in"
   ]
  },
  {
   "cell_type": "code",
   "execution_count": 1,
   "id": "7a1913ea-dfd1-455f-a6bd-9fd6d968b10a",
   "metadata": {},
   "outputs": [
    {
     "name": "stdin",
     "output_type": "stream",
     "text": [
      "Enter your Quantinuum email:  calqvideos@protonmail.com\n",
      "Enter your Quantinuum password:  ········\n"
     ]
    }
   ],
   "source": [
    "from pytket.extensions.quantinuum import QuantinuumBackend\n",
    "\n",
    "machine_name = \"H1-2E\"\n",
    "\n",
    "backend = QuantinuumBackend(machine_name)\n",
    "\n",
    "backend.login()"
   ]
  },
  {
   "cell_type": "code",
   "execution_count": 2,
   "id": "c728ffc5-ac1c-4b30-b01c-6872b80793eb",
   "metadata": {},
   "outputs": [
    {
     "data": {
      "text/plain": [
       "{<OpType.Barrier: 8>,\n",
       " <OpType.WASM: 14>,\n",
       " <OpType.SetBits: 15>,\n",
       " <OpType.CopyBits: 16>,\n",
       " <OpType.RangePredicate: 17>,\n",
       " <OpType.ExplicitPredicate: 18>,\n",
       " <OpType.ExplicitModifier: 19>,\n",
       " <OpType.MultiBit: 20>,\n",
       " <OpType.Rz: 36>,\n",
       " <OpType.Measure: 61>,\n",
       " <OpType.Reset: 63>,\n",
       " <OpType.PhasedX: 66>,\n",
       " <OpType.ZZMax: 68>,\n",
       " <OpType.ZZPhase: 71>,\n",
       " <OpType.ClassicalExpBox: 100>}"
      ]
     },
     "execution_count": 2,
     "metadata": {},
     "output_type": "execute_result"
    }
   ],
   "source": [
    "backend.backend_info.gate_set"
   ]
  },
  {
   "cell_type": "code",
   "execution_count": 3,
   "id": "c7dd440a-2b86-424d-b900-4097e7a399a3",
   "metadata": {},
   "outputs": [
    {
     "data": {
      "text/plain": [
       "20"
      ]
     },
     "execution_count": 3,
     "metadata": {},
     "output_type": "execute_result"
    }
   ],
   "source": [
    "backend.backend_info.n_nodes"
   ]
  },
  {
   "cell_type": "markdown",
   "id": "def0cd89-4892-490f-8a4f-ff318e287707",
   "metadata": {},
   "source": [
    "## Circuit submission"
   ]
  },
  {
   "cell_type": "code",
   "execution_count": 4,
   "id": "608204e4-4ae9-4b79-8840-ff9f85b21545",
   "metadata": {},
   "outputs": [
    {
     "data": {
      "text/html": [
       "\n",
       "\n",
       "\n",
       "\n",
       "\n",
       "\n",
       "<div style=\"resize: vertical; overflow: auto; height: 400px; display: block\">\n",
       "    <iframe srcdoc=\"\n",
       "&lt;!DOCTYPE html&gt;\n",
       "&lt;html lang=&#34;en&#34;&gt;\n",
       "&lt;head&gt;\n",
       "    &lt;meta charset=&#34;UTF-8&#34;&gt;\n",
       "    &lt;!-- Download Vue 3--&gt;\n",
       "&lt;script type=&#34;application/javascript&#34; src=&#34;https://cdn.jsdelivr.net/npm/vue@3&#34;&gt;&lt;/script&gt;\n",
       "&lt;!-- Download Circuit Renderer with styles --&gt;\n",
       "&lt;script type=&#34;application/javascript&#34; src=&#34;https://unpkg.com/pytket-circuit-renderer@0.6/dist/pytket-circuit-renderer.umd.js&#34;&gt;&lt;/script&gt;\n",
       "&lt;link rel=&#34;stylesheet&#34; href=&#34;https://unpkg.com/pytket-circuit-renderer@0.6/dist/pytket-circuit-renderer.css&#34;&gt;\n",
       "&lt;/head&gt;\n",
       "&lt;body&gt;\n",
       "\n",
       "\n",
       "\n",
       "    &lt;div id=&#34;circuit-display-vue-container-6b6c92bf-af29-4eb0-8015-6b2fe68729cf&#34; class=&#34;pytket-circuit-display-container&#34;&gt;\n",
       "        &lt;div style=&#34;display: none&#34;&gt;\n",
       "            &lt;div id=&#34;circuit-json-to-display&#34;&gt;{&#34;bits&#34;: [[&#34;mb&#34;, [0]], [&#34;mb&#34;, [1]], [&#34;mb&#34;, [2]]], &#34;commands&#34;: [{&#34;args&#34;: [[&#34;mq&#34;, [0]]], &#34;op&#34;: {&#34;type&#34;: &#34;H&#34;}}, {&#34;args&#34;: [[&#34;mq&#34;, [1]]], &#34;op&#34;: {&#34;type&#34;: &#34;H&#34;}}, {&#34;args&#34;: [[&#34;mq&#34;, [2]]], &#34;op&#34;: {&#34;type&#34;: &#34;H&#34;}}, {&#34;args&#34;: [[&#34;sp&#34;, [0]]], &#34;op&#34;: {&#34;type&#34;: &#34;X&#34;}}, {&#34;args&#34;: [[&#34;mq&#34;, [2]], [&#34;sp&#34;, [0]]], &#34;op&#34;: {&#34;params&#34;: [&#34;0.0&#34;, &#34;1.75&#34;, &#34;0.5&#34;], &#34;type&#34;: &#34;CU3&#34;}}, {&#34;args&#34;: [[&#34;mq&#34;, [1]], [&#34;sp&#34;, [0]]], &#34;op&#34;: {&#34;params&#34;: [&#34;0.0&#34;, &#34;1.75&#34;, &#34;0.5&#34;], &#34;type&#34;: &#34;CU3&#34;}}, {&#34;args&#34;: [[&#34;mq&#34;, [1]], [&#34;sp&#34;, [0]]], &#34;op&#34;: {&#34;params&#34;: [&#34;0.0&#34;, &#34;1.75&#34;, &#34;0.5&#34;], &#34;type&#34;: &#34;CU3&#34;}}, {&#34;args&#34;: [[&#34;mq&#34;, [0]], [&#34;sp&#34;, [0]]], &#34;op&#34;: {&#34;params&#34;: [&#34;0.0&#34;, &#34;1.75&#34;, &#34;0.5&#34;], &#34;type&#34;: &#34;CU3&#34;}}, {&#34;args&#34;: [[&#34;mq&#34;, [0]], [&#34;sp&#34;, [0]]], &#34;op&#34;: {&#34;params&#34;: [&#34;0.0&#34;, &#34;1.75&#34;, &#34;0.5&#34;], &#34;type&#34;: &#34;CU3&#34;}}, {&#34;args&#34;: [[&#34;mq&#34;, [0]], [&#34;sp&#34;, [0]]], &#34;op&#34;: {&#34;params&#34;: [&#34;0.0&#34;, &#34;1.75&#34;, &#34;0.5&#34;], &#34;type&#34;: &#34;CU3&#34;}}, {&#34;args&#34;: [[&#34;mq&#34;, [0]], [&#34;sp&#34;, [0]]], &#34;op&#34;: {&#34;params&#34;: [&#34;0.0&#34;, &#34;1.75&#34;, &#34;0.5&#34;], &#34;type&#34;: &#34;CU3&#34;}}, {&#34;args&#34;: [[&#34;mq&#34;, [0]], [&#34;mq&#34;, [2]]], &#34;op&#34;: {&#34;type&#34;: &#34;SWAP&#34;}}, {&#34;args&#34;: [[&#34;mq&#34;, [2]]], &#34;op&#34;: {&#34;type&#34;: &#34;H&#34;}}, {&#34;args&#34;: [[&#34;mq&#34;, [2]], [&#34;mq&#34;, [1]]], &#34;op&#34;: {&#34;params&#34;: [&#34;1.5&#34;], &#34;type&#34;: &#34;CU1&#34;}}, {&#34;args&#34;: [[&#34;mq&#34;, [2]], [&#34;mq&#34;, [0]]], &#34;op&#34;: {&#34;params&#34;: [&#34;1.75&#34;], &#34;type&#34;: &#34;CU1&#34;}}, {&#34;args&#34;: [[&#34;mq&#34;, [1]]], &#34;op&#34;: {&#34;type&#34;: &#34;H&#34;}}, {&#34;args&#34;: [[&#34;mq&#34;, [2]], [&#34;mb&#34;, [2]]], &#34;op&#34;: {&#34;type&#34;: &#34;Measure&#34;}}, {&#34;args&#34;: [[&#34;mq&#34;, [1]], [&#34;mq&#34;, [0]]], &#34;op&#34;: {&#34;params&#34;: [&#34;1.5&#34;], &#34;type&#34;: &#34;CU1&#34;}}, {&#34;args&#34;: [[&#34;mq&#34;, [1]], [&#34;mb&#34;, [1]]], &#34;op&#34;: {&#34;type&#34;: &#34;Measure&#34;}}, {&#34;args&#34;: [[&#34;mq&#34;, [0]]], &#34;op&#34;: {&#34;type&#34;: &#34;H&#34;}}, {&#34;args&#34;: [[&#34;mq&#34;, [0]], [&#34;mb&#34;, [0]]], &#34;op&#34;: {&#34;type&#34;: &#34;Measure&#34;}}], &#34;created_qubits&#34;: [], &#34;discarded_qubits&#34;: [], &#34;implicit_permutation&#34;: [[[&#34;mq&#34;, [0]], [&#34;mq&#34;, [0]]], [[&#34;mq&#34;, [1]], [&#34;mq&#34;, [1]]], [[&#34;mq&#34;, [2]], [&#34;mq&#34;, [2]]], [[&#34;sp&#34;, [0]], [&#34;sp&#34;, [0]]]], &#34;phase&#34;: &#34;0.0&#34;, &#34;qubits&#34;: [[&#34;mq&#34;, [0]], [&#34;mq&#34;, [1]], [&#34;mq&#34;, [2]], [&#34;sp&#34;, [0]]]}&lt;/div&gt;\n",
       "        &lt;/div&gt;\n",
       "        &lt;circuit-display-container\n",
       "                :circuit-element-str=&#34;&#39;#circuit-json-to-display&#39;&#34;\n",
       "                :init-render-options=&#34;initRenderOptions&#34;\n",
       "        &gt;&lt;/circuit-display-container&gt;\n",
       "    &lt;/div&gt;\n",
       "    &lt;script type=&#34;application/javascript&#34;&gt;\n",
       "      const circuitRendererUid = &#34;6b6c92bf-af29-4eb0-8015-6b2fe68729cf&#34;;\n",
       "      const displayOptions = JSON.parse(&#39;{}&#39;);\n",
       "\n",
       "      // Script to initialise the circuit renderer app\n",
       "\n",
       "const { createApp } = Vue;\n",
       "const circuitDisplayContainer = window[&#34;pytket-circuit-renderer&#34;].default;\n",
       "// Init variables to be shared between circuit display instances\n",
       "if (typeof window.pytketCircuitDisplays === &#34;undefined&#34;) {\n",
       "    window.pytketCircuitDisplays = {};\n",
       "}\n",
       "// Create the root Vue component\n",
       "const app = createApp({\n",
       "    delimiters: [&#39;[[#&#39;, &#39;#]]&#39;],\n",
       "    components: { circuitDisplayContainer },\n",
       "    data () {\n",
       "      return {\n",
       "        initRenderOptions: displayOptions,\n",
       "      }\n",
       "    }\n",
       "})\n",
       "app.config.unwrapInjectedRef = true;\n",
       "app.mount(&#34;#circuit-display-vue-container-&#34;+circuitRendererUid);\n",
       "window.pytketCircuitDisplays[circuitRendererUid] = app;\n",
       "    &lt;/script&gt;\n",
       "\n",
       "\n",
       "\n",
       "&lt;/body&gt;\n",
       "&lt;/html&gt;\n",
       "\"\n",
       "            width=\"100%\" height=\"100%\"\n",
       "            style=\"border: none; outline: none; overflow: auto\"></iframe>\n",
       "</div>\n",
       "\n"
      ],
      "text/plain": [
       "<IPython.core.display.HTML object>"
      ]
     },
     "metadata": {},
     "output_type": "display_data"
    }
   ],
   "source": [
    "from pytket.circuit.display import render_circuit_jupyter\n",
    "from pytket.qasm import circuit_from_qasm\n",
    "\n",
    "circ = circuit_from_qasm(\"qpe.qasm\")\n",
    "\n",
    "render_circuit_jupyter(circ)"
   ]
  },
  {
   "cell_type": "code",
   "execution_count": 5,
   "id": "c0c29333-7f05-4ffa-970f-19b6adec7152",
   "metadata": {},
   "outputs": [
    {
     "data": {
      "text/html": [
       "\n",
       "\n",
       "\n",
       "\n",
       "\n",
       "\n",
       "<div style=\"resize: vertical; overflow: auto; height: 400px; display: block\">\n",
       "    <iframe srcdoc=\"\n",
       "&lt;!DOCTYPE html&gt;\n",
       "&lt;html lang=&#34;en&#34;&gt;\n",
       "&lt;head&gt;\n",
       "    &lt;meta charset=&#34;UTF-8&#34;&gt;\n",
       "    &lt;!-- Download Vue 3--&gt;\n",
       "&lt;script type=&#34;application/javascript&#34; src=&#34;https://cdn.jsdelivr.net/npm/vue@3&#34;&gt;&lt;/script&gt;\n",
       "&lt;!-- Download Circuit Renderer with styles --&gt;\n",
       "&lt;script type=&#34;application/javascript&#34; src=&#34;https://unpkg.com/pytket-circuit-renderer@0.6/dist/pytket-circuit-renderer.umd.js&#34;&gt;&lt;/script&gt;\n",
       "&lt;link rel=&#34;stylesheet&#34; href=&#34;https://unpkg.com/pytket-circuit-renderer@0.6/dist/pytket-circuit-renderer.css&#34;&gt;\n",
       "&lt;/head&gt;\n",
       "&lt;body&gt;\n",
       "\n",
       "\n",
       "\n",
       "    &lt;div id=&#34;circuit-display-vue-container-c56b9aad-6b6c-4a91-b524-85077373045f&#34; class=&#34;pytket-circuit-display-container&#34;&gt;\n",
       "        &lt;div style=&#34;display: none&#34;&gt;\n",
       "            &lt;div id=&#34;circuit-json-to-display&#34;&gt;{&#34;bits&#34;: [[&#34;mb&#34;, [0]], [&#34;mb&#34;, [1]], [&#34;mb&#34;, [2]]], &#34;commands&#34;: [{&#34;args&#34;: [[&#34;mq&#34;, [0]]], &#34;op&#34;: {&#34;params&#34;: [&#34;0.5&#34;, &#34;2.5&#34;], &#34;type&#34;: &#34;PhasedX&#34;}}, {&#34;args&#34;: [[&#34;mq&#34;, [1]]], &#34;op&#34;: {&#34;params&#34;: [&#34;0.5&#34;, &#34;0.5&#34;], &#34;type&#34;: &#34;PhasedX&#34;}}, {&#34;args&#34;: [[&#34;mq&#34;, [2]]], &#34;op&#34;: {&#34;params&#34;: [&#34;0.5&#34;, &#34;1.5&#34;], &#34;type&#34;: &#34;PhasedX&#34;}}, {&#34;args&#34;: [[&#34;mq&#34;, [2]], [&#34;sp&#34;, [0]]], &#34;op&#34;: {&#34;params&#34;: [&#34;0.125&#34;], &#34;type&#34;: &#34;ZZPhase&#34;}}, {&#34;args&#34;: [[&#34;sp&#34;, [0]]], &#34;op&#34;: {&#34;params&#34;: [&#34;1&#34;, &#34;-1.75&#34;], &#34;type&#34;: &#34;PhasedX&#34;}}, {&#34;args&#34;: [[&#34;mq&#34;, [1]], [&#34;sp&#34;, [0]]], &#34;op&#34;: {&#34;params&#34;: [&#34;0.25&#34;], &#34;type&#34;: &#34;ZZPhase&#34;}}, {&#34;args&#34;: [[&#34;mq&#34;, [0]], [&#34;sp&#34;, [0]]], &#34;op&#34;: {&#34;type&#34;: &#34;ZZMax&#34;}}, {&#34;args&#34;: [[&#34;mq&#34;, [0]]], &#34;op&#34;: {&#34;params&#34;: [&#34;-0.5&#34;, &#34;0&#34;], &#34;type&#34;: &#34;PhasedX&#34;}}, {&#34;args&#34;: [[&#34;sp&#34;, [0]]], &#34;op&#34;: {&#34;params&#34;: [&#34;2.375&#34;], &#34;type&#34;: &#34;Rz&#34;}}, {&#34;args&#34;: [[&#34;mq&#34;, [0]], [&#34;mq&#34;, [1]]], &#34;op&#34;: {&#34;params&#34;: [&#34;0.25&#34;], &#34;type&#34;: &#34;ZZPhase&#34;}}, {&#34;args&#34;: [[&#34;mq&#34;, [0]]], &#34;op&#34;: {&#34;params&#34;: [&#34;1&#34;, &#34;-6.25&#34;], &#34;type&#34;: &#34;PhasedX&#34;}}, {&#34;args&#34;: [[&#34;mq&#34;, [1]]], &#34;op&#34;: {&#34;params&#34;: [&#34;1/2&#34;, &#34;-2.5&#34;], &#34;type&#34;: &#34;PhasedX&#34;}}, {&#34;args&#34;: [[&#34;mq&#34;, [0]], [&#34;mq&#34;, [2]]], &#34;op&#34;: {&#34;params&#34;: [&#34;0.125&#34;], &#34;type&#34;: &#34;ZZPhase&#34;}}, {&#34;args&#34;: [[&#34;mq&#34;, [0]], [&#34;mb&#34;, [2]]], &#34;op&#34;: {&#34;type&#34;: &#34;Measure&#34;}}, {&#34;args&#34;: [[&#34;mq&#34;, [1]], [&#34;mq&#34;, [2]]], &#34;op&#34;: {&#34;params&#34;: [&#34;0.25&#34;], &#34;type&#34;: &#34;ZZPhase&#34;}}, {&#34;args&#34;: [[&#34;mq&#34;, [1]], [&#34;mb&#34;, [1]]], &#34;op&#34;: {&#34;type&#34;: &#34;Measure&#34;}}, {&#34;args&#34;: [[&#34;mq&#34;, [2]]], &#34;op&#34;: {&#34;params&#34;: [&#34;1/2&#34;, &#34;-3.25&#34;], &#34;type&#34;: &#34;PhasedX&#34;}}, {&#34;args&#34;: [[&#34;mq&#34;, [2]], [&#34;mb&#34;, [0]]], &#34;op&#34;: {&#34;type&#34;: &#34;Measure&#34;}}], &#34;created_qubits&#34;: [[&#34;mq&#34;, [0]], [&#34;mq&#34;, [1]], [&#34;mq&#34;, [2]], [&#34;sp&#34;, [0]]], &#34;discarded_qubits&#34;: [], &#34;implicit_permutation&#34;: [[[&#34;mq&#34;, [0]], [&#34;mq&#34;, [2]]], [[&#34;mq&#34;, [1]], [&#34;mq&#34;, [1]]], [[&#34;mq&#34;, [2]], [&#34;mq&#34;, [0]]], [[&#34;sp&#34;, [0]], [&#34;sp&#34;, [0]]]], &#34;phase&#34;: &#34;0.625&#34;, &#34;qubits&#34;: [[&#34;mq&#34;, [0]], [&#34;mq&#34;, [1]], [&#34;mq&#34;, [2]], [&#34;sp&#34;, [0]]]}&lt;/div&gt;\n",
       "        &lt;/div&gt;\n",
       "        &lt;circuit-display-container\n",
       "                :circuit-element-str=&#34;&#39;#circuit-json-to-display&#39;&#34;\n",
       "                :init-render-options=&#34;initRenderOptions&#34;\n",
       "        &gt;&lt;/circuit-display-container&gt;\n",
       "    &lt;/div&gt;\n",
       "    &lt;script type=&#34;application/javascript&#34;&gt;\n",
       "      const circuitRendererUid = &#34;c56b9aad-6b6c-4a91-b524-85077373045f&#34;;\n",
       "      const displayOptions = JSON.parse(&#39;{}&#39;);\n",
       "\n",
       "      // Script to initialise the circuit renderer app\n",
       "\n",
       "const { createApp } = Vue;\n",
       "const circuitDisplayContainer = window[&#34;pytket-circuit-renderer&#34;].default;\n",
       "// Init variables to be shared between circuit display instances\n",
       "if (typeof window.pytketCircuitDisplays === &#34;undefined&#34;) {\n",
       "    window.pytketCircuitDisplays = {};\n",
       "}\n",
       "// Create the root Vue component\n",
       "const app = createApp({\n",
       "    delimiters: [&#39;[[#&#39;, &#39;#]]&#39;],\n",
       "    components: { circuitDisplayContainer },\n",
       "    data () {\n",
       "      return {\n",
       "        initRenderOptions: displayOptions,\n",
       "      }\n",
       "    }\n",
       "})\n",
       "app.config.unwrapInjectedRef = true;\n",
       "app.mount(&#34;#circuit-display-vue-container-&#34;+circuitRendererUid);\n",
       "window.pytketCircuitDisplays[circuitRendererUid] = app;\n",
       "    &lt;/script&gt;\n",
       "\n",
       "\n",
       "\n",
       "&lt;/body&gt;\n",
       "&lt;/html&gt;\n",
       "\"\n",
       "            width=\"100%\" height=\"100%\"\n",
       "            style=\"border: none; outline: none; overflow: auto\"></iframe>\n",
       "</div>\n",
       "\n"
      ],
      "text/plain": [
       "<IPython.core.display.HTML object>"
      ]
     },
     "metadata": {},
     "output_type": "display_data"
    },
    {
     "name": "stdout",
     "output_type": "stream",
     "text": [
      "18\n",
      "6\n"
     ]
    }
   ],
   "source": [
    "compiled_circ1 = backend.get_compiled_circuit(circ, optimisation_level=2)\n",
    "\n",
    "render_circuit_jupyter(compiled_circ1)\n",
    "print(compiled_circ1.n_gates)\n",
    "print(compiled_circ1.n_2qb_gates())"
   ]
  },
  {
   "cell_type": "code",
   "execution_count": 16,
   "id": "72aaee0d-8f4a-4292-88ee-6532d2b40fe6",
   "metadata": {},
   "outputs": [
    {
     "name": "stdout",
     "output_type": "stream",
     "text": [
      "Counter({(0, 0, 1): 496, (0, 0, 0): 3, (0, 1, 0): 1})\n"
     ]
    }
   ],
   "source": [
    "result = backend.run_circuit(compiled_circ1, n_shots=500)\n",
    "print(result.get_counts())"
   ]
  },
  {
   "cell_type": "code",
   "execution_count": 7,
   "id": "cba25e33-7e10-4321-83dc-4a0d6b724489",
   "metadata": {},
   "outputs": [
    {
     "data": {
      "image/png": "[encoded data removed]",
      "text/plain": [
       "<Figure size 640x480 with 1 Axes>"
      ]
     },
     "metadata": {},
     "output_type": "display_data"
    }
   ],
   "source": [
    "from plotting import plot_results\n",
    "\n",
    "plot_results(result, dark_mode=True)"
   ]
  },
  {
   "cell_type": "markdown",
   "id": "bdd991ba-f28f-44f0-bbd5-8c1375aa48ab",
   "metadata": {},
   "source": [
    "## Saving Results"
   ]
  },
  {
   "cell_type": "code",
   "execution_count": 8,
   "id": "53656bba-b493-4739-a6dd-9916d699e06c",
   "metadata": {},
   "outputs": [],
   "source": [
    "import json\n",
    "\n",
    "with open(\"pytket_emulator_example.json\", \"w\") as file:\n",
    "    json.dump(result.to_dict(), file)"
   ]
  },
  {
   "cell_type": "markdown",
   "id": "18826975-a053-40af-b91b-9ad6a6068cce",
   "metadata": {},
   "source": [
    "## Custom Noise Parameters\n",
    "\n",
    "Override default noise values for the simulation"
   ]
  },
  {
   "cell_type": "code",
   "execution_count": 13,
   "id": "1d1b7d73-7383-4d18-b95b-89ace0fee793",
   "metadata": {},
   "outputs": [],
   "source": [
    "from pytket import Circuit\n",
    "\n",
    "machine_name = \"H1-2E\"\n",
    "\n",
    "backend = QuantinuumBackend(machine_name)\n",
    "\n",
    "test_circ = Circuit(4).H(0).CX(0, 1).CX(0, 2).CX(0, 3).measure_all()\n",
    "compiled_circ_test = backend.get_compiled_circuit(test_circ)\n",
    "\n",
    "handle = backend.process_circuit(\n",
    "    compiled_circ_test,\n",
    "    n_shots=50,\n",
    "    request_options={\n",
    "        \"options\": {\n",
    "            \"error-params\": {\n",
    "                \"p1\": 4e-5,\n",
    "                \"p2\": 3e-3,\n",
    "                \"p_meas\": 3e-3,\n",
    "                \"p_init\": 4e-5,\n",
    "                \"p_crosstalk_meas\": 1e-5,\n",
    "                \"p_crosstalk_init\": 3e-5,\n",
    "                \"p1_emission\": 6e-6,\n",
    "                \"p2_emission\": 2e-4,\n",
    "            }\n",
    "        }\n",
    "    },\n",
    ")\n",
    "\n"
   ]
  },
  {
   "cell_type": "code",
   "execution_count": 15,
   "id": "03701bf3-76e7-4f62-a63b-7fea8d2869b6",
   "metadata": {},
   "outputs": [
    {
     "ename": "GetResultFailed",
     "evalue": "Cannot retrieve result; job status is CircuitStatus(status=<StatusEnum.ERROR: 'Circuit has errored. Check CircuitStatus.message for error message.'>, message='{\"name\": \"job\", \"submit-date\": \"2023-07-17T11:36:35.227517\", \"result-date\": null, \"queue-position\": null, \"cost\": \"0\", \"error\": {\"code\": 1001, \"text\": \"Job Processing Error\"}}', error_detail=None, completed_time=None, queued_time=None, submitted_time=None, running_time=None, cancelled_time=None, error_time=None, queue_position=None)",
     "output_type": "error",
     "traceback": [
      "\u001b[0;31m---------------------------------------------------------------------------\u001b[0m",
      "\u001b[0;31mCircuitNotRunError\u001b[0m                        Traceback (most recent call last)",
      "File \u001b[0;32m~/.pyenv/versions/3.10.6/lib/python3.10/site-packages/pytket/extensions/quantinuum/backends/quantinuum.py:759\u001b[0m, in \u001b[0;36mQuantinuumBackend.get_result\u001b[0;34m(self, handle, **kwargs)\u001b[0m\n\u001b[1;32m    758\u001b[0m \u001b[38;5;28;01mtry\u001b[39;00m:\n\u001b[0;32m--> 759\u001b[0m     \u001b[38;5;28;01mreturn\u001b[39;00m \u001b[38;5;28;43msuper\u001b[39;49m\u001b[43m(\u001b[49m\u001b[43m)\u001b[49m\u001b[38;5;241;43m.\u001b[39;49m\u001b[43mget_result\u001b[49m\u001b[43m(\u001b[49m\u001b[43mhandle\u001b[49m\u001b[43m)\u001b[49m\n\u001b[1;32m    760\u001b[0m \u001b[38;5;28;01mexcept\u001b[39;00m CircuitNotRunError:\n",
      "File \u001b[0;32m~/.pyenv/versions/3.10.6/lib/python3.10/site-packages/pytket/backends/backend.py:347\u001b[0m, in \u001b[0;36mBackend.get_result\u001b[0;34m(self, handle, **kwargs)\u001b[0m\n\u001b[1;32m    346\u001b[0m     \u001b[38;5;28;01mreturn\u001b[39;00m cast(BackendResult, \u001b[38;5;28mself\u001b[39m\u001b[38;5;241m.\u001b[39m_cache[handle][\u001b[38;5;124m\"\u001b[39m\u001b[38;5;124mresult\u001b[39m\u001b[38;5;124m\"\u001b[39m])\n\u001b[0;32m--> 347\u001b[0m \u001b[38;5;28;01mraise\u001b[39;00m CircuitNotRunError(handle)\n",
      "\u001b[0;31mCircuitNotRunError\u001b[0m: Circuit corresponding to ResultHandle('667c5de4ef644b0ebf84fa6b2225662f', 'null') has not been run by this backend instance.",
      "\nDuring handling of the above exception, another exception occurred:\n",
      "\u001b[0;31mGetResultFailed\u001b[0m                           Traceback (most recent call last)",
      "Cell \u001b[0;32mIn [15], line 1\u001b[0m\n\u001b[0;32m----> 1\u001b[0m result_custom_noise \u001b[38;5;241m=\u001b[39m \u001b[43mbackend\u001b[49m\u001b[38;5;241;43m.\u001b[39;49m\u001b[43mget_result\u001b[49m\u001b[43m(\u001b[49m\u001b[43mhandle\u001b[49m\u001b[43m)\u001b[49m\n",
      "File \u001b[0;32m~/.pyenv/versions/3.10.6/lib/python3.10/site-packages/pytket/extensions/quantinuum/backends/quantinuum.py:781\u001b[0m, in \u001b[0;36mQuantinuumBackend.get_result\u001b[0;34m(self, handle, **kwargs)\u001b[0m\n\u001b[1;32m    779\u001b[0m circ_status \u001b[38;5;241m=\u001b[39m _parse_status(job_retrieve)\n\u001b[1;32m    780\u001b[0m \u001b[38;5;28;01mif\u001b[39;00m circ_status\u001b[38;5;241m.\u001b[39mstatus \u001b[38;5;129;01mnot\u001b[39;00m \u001b[38;5;129;01min\u001b[39;00m (StatusEnum\u001b[38;5;241m.\u001b[39mCOMPLETED, StatusEnum\u001b[38;5;241m.\u001b[39mCANCELLED):\n\u001b[0;32m--> 781\u001b[0m     \u001b[38;5;28;01mraise\u001b[39;00m GetResultFailed(\n\u001b[1;32m    782\u001b[0m         \u001b[38;5;124mf\u001b[39m\u001b[38;5;124m\"\u001b[39m\u001b[38;5;124mCannot retrieve result; job status is \u001b[39m\u001b[38;5;132;01m{\u001b[39;00mcirc_status\u001b[38;5;132;01m}\u001b[39;00m\u001b[38;5;124m\"\u001b[39m\n\u001b[1;32m    783\u001b[0m     )\n\u001b[1;32m    784\u001b[0m \u001b[38;5;28;01mtry\u001b[39;00m:\n\u001b[1;32m    785\u001b[0m     res \u001b[38;5;241m=\u001b[39m job_retrieve[\u001b[38;5;124m\"\u001b[39m\u001b[38;5;124mresults\u001b[39m\u001b[38;5;124m\"\u001b[39m]\n",
      "\u001b[0;31mGetResultFailed\u001b[0m: Cannot retrieve result; job status is CircuitStatus(status=<StatusEnum.ERROR: 'Circuit has errored. Check CircuitStatus.message for error message.'>, message='{\"name\": \"job\", \"submit-date\": \"2023-07-17T11:36:35.227517\", \"result-date\": null, \"queue-position\": null, \"cost\": \"0\", \"error\": {\"code\": 1001, \"text\": \"Job Processing Error\"}}', error_detail=None, completed_time=None, queued_time=None, submitted_time=None, running_time=None, cancelled_time=None, error_time=None, queue_position=None)"
     ]
    }
   ],
   "source": [
    "result_custom_noise = backend.get_result(handle)"
   ]
  },
  {
   "cell_type": "markdown",
   "id": "75cb3576-64e0-4c0b-80fe-7d025baf8680",
   "metadata": {},
   "source": [
    "## Stabilzer simulation"
   ]
  },
  {
   "cell_type": "code",
   "execution_count": null,
   "id": "7e1a5154-ad58-4c83-8906-b168a060d505",
   "metadata": {},
   "outputs": [],
   "source": [
    "test_circ = Circuit(4).H(0).CX(0, 1).CX(0, 2).CX(0, 3).measure_all()"
   ]
  },
  {
   "cell_type": "code",
   "execution_count": null,
   "id": "198cb1d1-57bd-4dae-bfc0-f15771962b91",
   "metadata": {},
   "outputs": [],
   "source": [
    "stabilizer_backend = QuantinuumBackend(device_name=machine_name, simulator=\"stabilizer\")"
   ]
  },
  {
   "cell_type": "code",
   "execution_count": null,
   "id": "da434bd2-8290-4a2a-8108-0e98a2219b13",
   "metadata": {},
   "outputs": [],
   "source": [
    "\n",
    "\n",
    "stabilizer_backend = QuantinuumBackend(device_name=machine_name, simulator=\"stabilizer\")\n",
    "\n",
    "print(machine, \"status:\", stabilizer_backend.device_state(device_name=machine))\n",
    "print(\"Simulation type:\", stabilizer_backend.simulator_type)"
   ]
  },
  {
   "cell_type": "code",
   "execution_count": null,
   "id": "1ff6219b-3600-4f96-a92a-da97c8f2026e",
   "metadata": {},
   "outputs": [],
   "source": [
    "n_shots = 100\n",
    "stabilizer_handle = stabilizer_backend.process_circuit(\n",
    "    compiled_circuit, n_shots=n_shots\n",
    ")\n",
    "print(stabilizer_handle)"
   ]
  },
  {
   "cell_type": "code",
   "execution_count": null,
   "id": "04fe0242-ada0-4d3b-9f62-b797c29e739c",
   "metadata": {},
   "outputs": [],
   "source": []
  },
  {
   "cell_type": "code",
   "execution_count": null,
   "id": "a5151184-1ef8-48b9-a738-048ff2ae25a2",
   "metadata": {},
   "outputs": [],
   "source": []
  }
 ],
 "metadata": {
  "kernelspec": {
   "display_name": "Python 3 (ipykernel)",
   "language": "python",
   "name": "python3"
  },
  "language_info": {
   "codemirror_mode": {
    "name": "ipython",
    "version": 3
   },
   "file_extension": ".py",
   "mimetype": "text/x-python",
   "name": "python",
   "nbconvert_exporter": "python",
   "pygments_lexer": "ipython3",
   "version": "3.10.6"
  }
 },
 "nbformat": 4,
 "nbformat_minor": 5
}
